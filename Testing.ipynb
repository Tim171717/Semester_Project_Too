{
 "cells": [
  {
   "cell_type": "code",
   "id": "initial_id",
   "metadata": {
    "collapsed": true,
    "ExecuteTime": {
     "end_time": "2025-10-08T20:32:34.294218Z",
     "start_time": "2025-10-08T20:32:10.594374Z"
    }
   },
   "source": [
    "from fabric import Connection\n",
    "\n",
    "c = Connection('tfessler@rainbow', connect_kwargs={\"password\": \"Dl2oP1AjOjO6\"})\n",
    "exports = (\n",
    "    'export LD_LIBRARY_PATH=/home/ipa/quanz/user_accounts/tfessler/software/MultiNest/lib/:$LD_LIBRARY_PATH '\n",
    "    'PYRETLIFE_OPACITY_PATH=/home/ipa/quanz/shared/opacity_database_pRT3/ '\n",
    "    'PYRETLIFE_PRT_PATH=/home/ipa/quanz/user_accounts/tfessler/software/petitRADTRANS/ '\n",
    "    'PYRETLIFE_RETRIEVAL_PATH=/home/ipa/quanz/user_accounts/tfessler/software/pyRetLIFE/'\n",
    ")\n",
    "\n",
    "# Then use it in each c.run command\n",
    "c.run(\n",
    "    f'{exports} && source /home/ipa/quanz/user_accounts/tfessler/myenv/bin/activate && '\n",
    "    'python /home/ipa/quanz/user_accounts/tfessler/software/pyRetLIFE/scripts/create_spectrum.py  --config /home/ipa/quanz/user_accounts/tfessler/config_files/VH2O_create_spectrum.yaml'\n",
    ")"
   ],
   "outputs": [
    {
     "name": "stderr",
     "output_type": "stream",
     "text": [
      "/home/ipa/quanz/user_accounts/tfessler/myenv/lib/python3.11/site-packages/petitRADTRANS/_input_data.py:241: UserWarning: no file matching name '16O3.R100' found in directory '/home/tfessler/petitRADTRANS/input_data/opacities/lines/correlated_k/O3/16O3'\n",
      "Available files are:\n",
      "16O3__HITRAN.R1000_0.1-250mu.ktable.petitRADTRANS.h5\n",
      "  warnings.warn(f\"no file matching name '{filename}' found in directory '{full_path}'\\n\"\n",
      "/home/ipa/quanz/user_accounts/tfessler/myenv/lib/python3.11/site-packages/petitRADTRANS/_input_data.py:241: UserWarning: no file matching name '16O3.R1000' found in directory '/home/tfessler/petitRADTRANS/input_data/opacities/lines/correlated_k/O3/16O3'\n",
      "Available files are:\n",
      "16O3__HITRAN.R1000_0.1-250mu.ktable.petitRADTRANS.h5\n",
      "  warnings.warn(f\"no file matching name '{filename}' found in directory '{full_path}'\\n\"\n",
      "Traceback (most recent call last):\n",
      "  File \"/home/ipa/quanz/user_accounts/tfessler/software/pyRetLIFE/scripts/create_spectrum.py\", line 51, in <module>\n",
      "    pyret_ship.petitRADTRANS_initialization()\n",
      "  File \"/home/ipa/quanz/user_accounts/tfessler/software/pyRetLIFE/pyretlife/retrieval/run.py\", line 277, in petitRADTRANS_initialization\n",
      "    self.rt_object = Radtrans(\n",
      "                     ^^^^^^^^^\n",
      "  File \"/home/ipa/quanz/user_accounts/tfessler/myenv/lib/python3.11/site-packages/petitRADTRANS/radtrans.py\", line 177, in __init__\n",
      "    self._frequencies, self._frequency_bins_edges = self._init_frequency_grid()\n",
      "                                                    ^^^^^^^^^^^^^^^^^^^^^^^^^^^\n",
      "  File \"/home/ipa/quanz/user_accounts/tfessler/myenv/lib/python3.11/site-packages/petitRADTRANS/radtrans.py\", line 2889, in _init_frequency_grid\n",
      "    frequencies, frequency_bins_edges = self._init_frequency_grid_from_lines()\n",
      "                                        ^^^^^^^^^^^^^^^^^^^^^^^^^^^^^^^^^^^^^^\n",
      "  File \"/home/ipa/quanz/user_accounts/tfessler/myenv/lib/python3.11/site-packages/petitRADTRANS/radtrans.py\", line 2985, in _init_frequency_grid_from_lines\n",
      "    opacities_file = self.__get_line_opacity_file(\n",
      "                     ^^^^^^^^^^^^^^^^^^^^^^^^^^^^^\n",
      "  File \"/home/ipa/quanz/user_accounts/tfessler/myenv/lib/python3.11/site-packages/petitRADTRANS/radtrans.py\", line 1058, in __get_line_opacity_file\n",
      "    default_hdf5_file = CorrelatedKOpacity.find(\n",
      "                        ^^^^^^^^^^^^^^^^^^^^^^^^\n",
      "  File \"/home/ipa/quanz/user_accounts/tfessler/myenv/lib/python3.11/site-packages/petitRADTRANS/opacities/opacities.py\", line 871, in find\n",
      "    return find_input_file(\n",
      "           ^^^^^^^^^^^^^^^^\n",
      "  File \"/home/ipa/quanz/user_accounts/tfessler/myenv/lib/python3.11/site-packages/petitRADTRANS/_input_data.py\", line 206, in find_input_file\n",
      "    raise FileNotFoundError(_get_input_data_file_not_found_error_message(full_path))\n",
      "FileNotFoundError: no matching file found in path '/home/tfessler/petitRADTRANS/input_data/opacities/lines/correlated_k/O3/16O3'\n",
      "This may be caused by an incorrect input_data path, outdated file formatting, or a missing file\n",
      "\n",
      "To set the input_data path, execute: \n",
      ">>> from petitRADTRANS.config.configuration import petitradtrans_config_parser\n",
      ">>> petitradtrans_config_parser.set_input_data_path('path/to/input_data')\n",
      "replacing 'path/to/' with the path to the input_data directory\n",
      "\n",
      "To update the outdated files, execute:\n",
      ">>> from petitRADTRANS.__file_conversion import convert_all\n",
      ">>> convert_all()\n",
      "\n",
      "To download the missing file, see https://petitradtrans.readthedocs.io/en/latest/content/installation.html\n"
     ]
    },
    {
     "name": "stdout",
     "output_type": "stream",
     "text": [
      "Conversion performed for truth value of d_syst.\n",
      "Input value: 10.0 pRT_pc\n",
      "Converted value: 3.085677581491368e+17 m\n",
      "\n",
      "Conversion performed for truth value of R_pl.\n",
      "Input value: 1.0 pRT_R_earth\n",
      "Converted value: 637810000.0 cm\n",
      "\n",
      "Conversion performed for truth value of M_pl.\n",
      "Input value: 1.0 pRT_M_earth\n",
      "Converted value: 5.972167867791379e+27 g\n",
      "\n",
      "Used line species:\t\t['CO.R100', 'CH4.R100', 'CO2.R100', 'O3.R100', 'H2O.R100']\n",
      "Used rayleigh species:\t\t[]\n",
      "Used continuum opacities:\t['CO2--CO2', 'H2O--H2O', 'H2O--N2', 'N2--N2', 'N2--O2', 'O2--O2']\n",
      "Used cloud species:\t\t[]\n",
      "Used species *in general*:\t['CO2', 'CO.R100', '', 'N2', 'CH4.R100', 'H2O', 'CO2.R100', 'O3.R100', 'H2O.R100', 'O2']\n",
      "\n"
     ]
    },
    {
     "ename": "UnexpectedExit",
     "evalue": "Encountered a bad command exit code!\n\nCommand: 'export LD_LIBRARY_PATH=/home/ipa/quanz/user_accounts/tfessler/software/MultiNest/lib/:$LD_LIBRARY_PATH PYRETLIFE_OPACITY_PATH=/home/ipa/quanz/shared/opacity_database_pRT3/ PYRETLIFE_PRT_PATH=/home/ipa/quanz/user_accounts/tfessler/software/petitRADTRANS/ PYRETLIFE_RETRIEVAL_PATH=/home/ipa/quanz/user_accounts/tfessler/software/pyRetLIFE/ && source /home/ipa/quanz/user_accounts/tfessler/myenv/bin/activate && python /home/ipa/quanz/user_accounts/tfessler/software/pyRetLIFE/scripts/create_spectrum.py  --config /home/ipa/quanz/user_accounts/tfessler/config_files/VH2O_create_spectrum.yaml'\n\nExit code: 1\n\nStdout: already printed\n\nStderr: already printed\n\n",
     "output_type": "error",
     "traceback": [
      "\u001B[31m---------------------------------------------------------------------------\u001B[39m",
      "\u001B[31mUnexpectedExit\u001B[39m                            Traceback (most recent call last)",
      "\u001B[36mCell\u001B[39m\u001B[36m \u001B[39m\u001B[32mIn[34]\u001B[39m\u001B[32m, line 12\u001B[39m\n\u001B[32m      4\u001B[39m exports = (\n\u001B[32m      5\u001B[39m     \u001B[33m'\u001B[39m\u001B[33mexport LD_LIBRARY_PATH=/home/ipa/quanz/user_accounts/tfessler/software/MultiNest/lib/:$LD_LIBRARY_PATH \u001B[39m\u001B[33m'\u001B[39m\n\u001B[32m      6\u001B[39m     \u001B[33m'\u001B[39m\u001B[33mPYRETLIFE_OPACITY_PATH=/home/ipa/quanz/shared/opacity_database_pRT3/ \u001B[39m\u001B[33m'\u001B[39m\n\u001B[32m      7\u001B[39m     \u001B[33m'\u001B[39m\u001B[33mPYRETLIFE_PRT_PATH=/home/ipa/quanz/user_accounts/tfessler/software/petitRADTRANS/ \u001B[39m\u001B[33m'\u001B[39m\n\u001B[32m      8\u001B[39m     \u001B[33m'\u001B[39m\u001B[33mPYRETLIFE_RETRIEVAL_PATH=/home/ipa/quanz/user_accounts/tfessler/software/pyRetLIFE/\u001B[39m\u001B[33m'\u001B[39m\n\u001B[32m      9\u001B[39m )\n\u001B[32m     11\u001B[39m \u001B[38;5;66;03m# Then use it in each c.run command\u001B[39;00m\n\u001B[32m---> \u001B[39m\u001B[32m12\u001B[39m \u001B[43mc\u001B[49m\u001B[43m.\u001B[49m\u001B[43mrun\u001B[49m\u001B[43m(\u001B[49m\n\u001B[32m     13\u001B[39m \u001B[43m    \u001B[49m\u001B[33;43mf\u001B[39;49m\u001B[33;43m'\u001B[39;49m\u001B[38;5;132;43;01m{\u001B[39;49;00m\u001B[43mexports\u001B[49m\u001B[38;5;132;43;01m}\u001B[39;49;00m\u001B[33;43m && source /home/ipa/quanz/user_accounts/tfessler/myenv/bin/activate && \u001B[39;49m\u001B[33;43m'\u001B[39;49m\n\u001B[32m     14\u001B[39m \u001B[43m    \u001B[49m\u001B[33;43m'\u001B[39;49m\u001B[33;43mpython /home/ipa/quanz/user_accounts/tfessler/software/pyRetLIFE/scripts/create_spectrum.py  --config /home/ipa/quanz/user_accounts/tfessler/config_files/VH2O_create_spectrum.yaml\u001B[39;49m\u001B[33;43m'\u001B[39;49m\n\u001B[32m     15\u001B[39m \u001B[43m)\u001B[49m\n",
      "\u001B[36mFile \u001B[39m\u001B[32m~\\PycharmProjects\\Randoms\\.venv\\Lib\\site-packages\\decorator.py:235\u001B[39m, in \u001B[36mdecorate.<locals>.fun\u001B[39m\u001B[34m(*args, **kw)\u001B[39m\n\u001B[32m    233\u001B[39m \u001B[38;5;28;01mif\u001B[39;00m \u001B[38;5;129;01mnot\u001B[39;00m kwsyntax:\n\u001B[32m    234\u001B[39m     args, kw = fix(args, kw, sig)\n\u001B[32m--> \u001B[39m\u001B[32m235\u001B[39m \u001B[38;5;28;01mreturn\u001B[39;00m \u001B[43mcaller\u001B[49m\u001B[43m(\u001B[49m\u001B[43mfunc\u001B[49m\u001B[43m,\u001B[49m\u001B[43m \u001B[49m\u001B[43m*\u001B[49m\u001B[43m(\u001B[49m\u001B[43mextras\u001B[49m\u001B[43m \u001B[49m\u001B[43m+\u001B[49m\u001B[43m \u001B[49m\u001B[43margs\u001B[49m\u001B[43m)\u001B[49m\u001B[43m,\u001B[49m\u001B[43m \u001B[49m\u001B[43m*\u001B[49m\u001B[43m*\u001B[49m\u001B[43mkw\u001B[49m\u001B[43m)\u001B[49m\n",
      "\u001B[36mFile \u001B[39m\u001B[32m~\\PycharmProjects\\Randoms\\.venv\\Lib\\site-packages\\fabric\\connection.py:23\u001B[39m, in \u001B[36mopens\u001B[39m\u001B[34m(method, self, *args, **kwargs)\u001B[39m\n\u001B[32m     20\u001B[39m \u001B[38;5;129m@decorator\u001B[39m\n\u001B[32m     21\u001B[39m \u001B[38;5;28;01mdef\u001B[39;00m\u001B[38;5;250m \u001B[39m\u001B[34mopens\u001B[39m(method, \u001B[38;5;28mself\u001B[39m, *args, **kwargs):\n\u001B[32m     22\u001B[39m     \u001B[38;5;28mself\u001B[39m.open()\n\u001B[32m---> \u001B[39m\u001B[32m23\u001B[39m     \u001B[38;5;28;01mreturn\u001B[39;00m \u001B[43mmethod\u001B[49m\u001B[43m(\u001B[49m\u001B[38;5;28;43mself\u001B[39;49m\u001B[43m,\u001B[49m\u001B[43m \u001B[49m\u001B[43m*\u001B[49m\u001B[43margs\u001B[49m\u001B[43m,\u001B[49m\u001B[43m \u001B[49m\u001B[43m*\u001B[49m\u001B[43m*\u001B[49m\u001B[43mkwargs\u001B[49m\u001B[43m)\u001B[49m\n",
      "\u001B[36mFile \u001B[39m\u001B[32m~\\PycharmProjects\\Randoms\\.venv\\Lib\\site-packages\\fabric\\connection.py:763\u001B[39m, in \u001B[36mConnection.run\u001B[39m\u001B[34m(self, command, **kwargs)\u001B[39m\n\u001B[32m    748\u001B[39m \u001B[38;5;129m@opens\u001B[39m\n\u001B[32m    749\u001B[39m \u001B[38;5;28;01mdef\u001B[39;00m\u001B[38;5;250m \u001B[39m\u001B[34mrun\u001B[39m(\u001B[38;5;28mself\u001B[39m, command, **kwargs):\n\u001B[32m    750\u001B[39m \u001B[38;5;250m    \u001B[39m\u001B[33;03m\"\"\"\u001B[39;00m\n\u001B[32m    751\u001B[39m \u001B[33;03m    Execute a shell command on the remote end of this connection.\u001B[39;00m\n\u001B[32m    752\u001B[39m \n\u001B[32m   (...)\u001B[39m\u001B[32m    761\u001B[39m \u001B[33;03m    .. versionadded:: 2.0\u001B[39;00m\n\u001B[32m    762\u001B[39m \u001B[33;03m    \"\"\"\u001B[39;00m\n\u001B[32m--> \u001B[39m\u001B[32m763\u001B[39m     \u001B[38;5;28;01mreturn\u001B[39;00m \u001B[38;5;28;43mself\u001B[39;49m\u001B[43m.\u001B[49m\u001B[43m_run\u001B[49m\u001B[43m(\u001B[49m\u001B[38;5;28;43mself\u001B[39;49m\u001B[43m.\u001B[49m\u001B[43m_remote_runner\u001B[49m\u001B[43m(\u001B[49m\u001B[43m)\u001B[49m\u001B[43m,\u001B[49m\u001B[43m \u001B[49m\u001B[43mcommand\u001B[49m\u001B[43m,\u001B[49m\u001B[43m \u001B[49m\u001B[43m*\u001B[49m\u001B[43m*\u001B[49m\u001B[43mkwargs\u001B[49m\u001B[43m)\u001B[49m\n",
      "\u001B[36mFile \u001B[39m\u001B[32m~\\PycharmProjects\\Randoms\\.venv\\Lib\\site-packages\\invoke\\context.py:113\u001B[39m, in \u001B[36mContext._run\u001B[39m\u001B[34m(self, runner, command, **kwargs)\u001B[39m\n\u001B[32m    109\u001B[39m \u001B[38;5;28;01mdef\u001B[39;00m\u001B[38;5;250m \u001B[39m\u001B[34m_run\u001B[39m(\n\u001B[32m    110\u001B[39m     \u001B[38;5;28mself\u001B[39m, runner: \u001B[33m\"\u001B[39m\u001B[33mRunner\u001B[39m\u001B[33m\"\u001B[39m, command: \u001B[38;5;28mstr\u001B[39m, **kwargs: Any\n\u001B[32m    111\u001B[39m ) -> Optional[Result]:\n\u001B[32m    112\u001B[39m     command = \u001B[38;5;28mself\u001B[39m._prefix_commands(command)\n\u001B[32m--> \u001B[39m\u001B[32m113\u001B[39m     \u001B[38;5;28;01mreturn\u001B[39;00m \u001B[43mrunner\u001B[49m\u001B[43m.\u001B[49m\u001B[43mrun\u001B[49m\u001B[43m(\u001B[49m\u001B[43mcommand\u001B[49m\u001B[43m,\u001B[49m\u001B[43m \u001B[49m\u001B[43m*\u001B[49m\u001B[43m*\u001B[49m\u001B[43mkwargs\u001B[49m\u001B[43m)\u001B[49m\n",
      "\u001B[36mFile \u001B[39m\u001B[32m~\\PycharmProjects\\Randoms\\.venv\\Lib\\site-packages\\fabric\\runners.py:83\u001B[39m, in \u001B[36mRemote.run\u001B[39m\u001B[34m(self, command, **kwargs)\u001B[39m\n\u001B[32m     81\u001B[39m \u001B[38;5;28;01mdef\u001B[39;00m\u001B[38;5;250m \u001B[39m\u001B[34mrun\u001B[39m(\u001B[38;5;28mself\u001B[39m, command, **kwargs):\n\u001B[32m     82\u001B[39m     kwargs.setdefault(\u001B[33m\"\u001B[39m\u001B[33mreplace_env\u001B[39m\u001B[33m\"\u001B[39m, \u001B[38;5;28;01mTrue\u001B[39;00m)\n\u001B[32m---> \u001B[39m\u001B[32m83\u001B[39m     \u001B[38;5;28;01mreturn\u001B[39;00m \u001B[38;5;28;43msuper\u001B[39;49m\u001B[43m(\u001B[49m\u001B[43m)\u001B[49m\u001B[43m.\u001B[49m\u001B[43mrun\u001B[49m\u001B[43m(\u001B[49m\u001B[43mcommand\u001B[49m\u001B[43m,\u001B[49m\u001B[43m \u001B[49m\u001B[43m*\u001B[49m\u001B[43m*\u001B[49m\u001B[43mkwargs\u001B[49m\u001B[43m)\u001B[49m\n",
      "\u001B[36mFile \u001B[39m\u001B[32m~\\PycharmProjects\\Randoms\\.venv\\Lib\\site-packages\\invoke\\runners.py:395\u001B[39m, in \u001B[36mRunner.run\u001B[39m\u001B[34m(self, command, **kwargs)\u001B[39m\n\u001B[32m    126\u001B[39m \u001B[38;5;250m\u001B[39m\u001B[33;03m\"\"\"\u001B[39;00m\n\u001B[32m    127\u001B[39m \u001B[33;03mExecute ``command``, returning an instance of `Result` once complete.\u001B[39;00m\n\u001B[32m    128\u001B[39m \n\u001B[32m   (...)\u001B[39m\u001B[32m    392\u001B[39m \u001B[33;03m.. versionadded:: 1.0\u001B[39;00m\n\u001B[32m    393\u001B[39m \u001B[33;03m\"\"\"\u001B[39;00m\n\u001B[32m    394\u001B[39m \u001B[38;5;28;01mtry\u001B[39;00m:\n\u001B[32m--> \u001B[39m\u001B[32m395\u001B[39m     \u001B[38;5;28;01mreturn\u001B[39;00m \u001B[38;5;28;43mself\u001B[39;49m\u001B[43m.\u001B[49m\u001B[43m_run_body\u001B[49m\u001B[43m(\u001B[49m\u001B[43mcommand\u001B[49m\u001B[43m,\u001B[49m\u001B[43m \u001B[49m\u001B[43m*\u001B[49m\u001B[43m*\u001B[49m\u001B[43mkwargs\u001B[49m\u001B[43m)\u001B[49m\n\u001B[32m    396\u001B[39m \u001B[38;5;28;01mfinally\u001B[39;00m:\n\u001B[32m    397\u001B[39m     \u001B[38;5;28;01mif\u001B[39;00m \u001B[38;5;129;01mnot\u001B[39;00m (\u001B[38;5;28mself\u001B[39m._asynchronous \u001B[38;5;129;01mor\u001B[39;00m \u001B[38;5;28mself\u001B[39m._disowned):\n",
      "\u001B[36mFile \u001B[39m\u001B[32m~\\PycharmProjects\\Randoms\\.venv\\Lib\\site-packages\\invoke\\runners.py:451\u001B[39m, in \u001B[36mRunner._run_body\u001B[39m\u001B[34m(self, command, **kwargs)\u001B[39m\n\u001B[32m    449\u001B[39m     thread.start()\n\u001B[32m    450\u001B[39m \u001B[38;5;66;03m# Wrap up or promise that we will, depending\u001B[39;00m\n\u001B[32m--> \u001B[39m\u001B[32m451\u001B[39m \u001B[38;5;28;01mreturn\u001B[39;00m \u001B[38;5;28mself\u001B[39m.make_promise() \u001B[38;5;28;01mif\u001B[39;00m \u001B[38;5;28mself\u001B[39m._asynchronous \u001B[38;5;28;01melse\u001B[39;00m \u001B[38;5;28;43mself\u001B[39;49m\u001B[43m.\u001B[49m\u001B[43m_finish\u001B[49m\u001B[43m(\u001B[49m\u001B[43m)\u001B[49m\n",
      "\u001B[36mFile \u001B[39m\u001B[32m~\\PycharmProjects\\Randoms\\.venv\\Lib\\site-packages\\invoke\\runners.py:518\u001B[39m, in \u001B[36mRunner._finish\u001B[39m\u001B[34m(self)\u001B[39m\n\u001B[32m    516\u001B[39m     \u001B[38;5;28;01mraise\u001B[39;00m CommandTimedOut(result, timeout=timeout)\n\u001B[32m    517\u001B[39m \u001B[38;5;28;01mif\u001B[39;00m \u001B[38;5;129;01mnot\u001B[39;00m (result \u001B[38;5;129;01mor\u001B[39;00m \u001B[38;5;28mself\u001B[39m.opts[\u001B[33m\"\u001B[39m\u001B[33mwarn\u001B[39m\u001B[33m\"\u001B[39m]):\n\u001B[32m--> \u001B[39m\u001B[32m518\u001B[39m     \u001B[38;5;28;01mraise\u001B[39;00m UnexpectedExit(result)\n\u001B[32m    519\u001B[39m \u001B[38;5;28;01mreturn\u001B[39;00m result\n",
      "\u001B[31mUnexpectedExit\u001B[39m: Encountered a bad command exit code!\n\nCommand: 'export LD_LIBRARY_PATH=/home/ipa/quanz/user_accounts/tfessler/software/MultiNest/lib/:$LD_LIBRARY_PATH PYRETLIFE_OPACITY_PATH=/home/ipa/quanz/shared/opacity_database_pRT3/ PYRETLIFE_PRT_PATH=/home/ipa/quanz/user_accounts/tfessler/software/petitRADTRANS/ PYRETLIFE_RETRIEVAL_PATH=/home/ipa/quanz/user_accounts/tfessler/software/pyRetLIFE/ && source /home/ipa/quanz/user_accounts/tfessler/myenv/bin/activate && python /home/ipa/quanz/user_accounts/tfessler/software/pyRetLIFE/scripts/create_spectrum.py  --config /home/ipa/quanz/user_accounts/tfessler/config_files/VH2O_create_spectrum.yaml'\n\nExit code: 1\n\nStdout: already printed\n\nStderr: already printed\n\n"
     ]
    }
   ],
   "execution_count": 34
  },
  {
   "metadata": {
    "ExecuteTime": {
     "end_time": "2025-10-08T18:59:07.403524Z",
     "start_time": "2025-10-08T18:59:06.882111Z"
    }
   },
   "cell_type": "code",
   "source": [
    "from fabric import Connection\n",
    "\n",
    "c = Connection(\"tfessler@rainbow\", connect_kwargs={\"password\": \"Dl2oP1AjOjO6\"})\n",
    "\n",
    "with c.cd(\"/home/ipa/quanz/user_accounts/tfessler\"):\n",
    "    c.run(\"ls -la\")\n",
    "    c.run(\"pwd\")"
   ],
   "id": "ae670663693e7d54",
   "outputs": [
    {
     "name": "stdout",
     "output_type": "stream",
     "text": [
      "total 24\n",
      "drwxrwsr-x 15 zaburr   ipaquanz 4096 Oct  5 19:05 .\n",
      "drwxrwsr-x 52 keuferpc ipaquanz 4096 Sep 25 16:03 ..\n",
      "drwxrwsr-x  3 tfessler ipaquanz   28 Oct  5 19:05 .astropy\n",
      "drwx--S---  4 tfessler ipaquanz   48 Oct  5 19:05 .config\n",
      "drwxrwxr-x  2 tfessler tfessler  138 Oct  7 15:23 config_files\n",
      "drwxrwsr-x  3 tfessler ipaquanz   27 Oct  2 16:16 .local\n",
      "drwxrwsr-x  7 tfessler ipaquanz  130 Oct  5 18:15 myenv\n",
      "drwx--S---  3 tfessler ipaquanz   34 Oct  5 19:05 .nv\n",
      "drwxrwsr-x  2 tfessler ipaquanz   51 Oct  5 18:53 .petitradtrans\n",
      "drwxrwsr-x 14 tfessler ipaquanz 4096 Oct  5 17:51 .pyenv\n",
      "drwxrwxr-x  3 tfessler tfessler 4096 Oct  7 10:10 results\n",
      "drwxrwsr-x  3 tfessler ipaquanz 4096 Oct  7 09:48 results_try2\n",
      "drwxr-sr-x  5 tfessler ipaquanz  180 Oct  7 13:16 Retrieval_Tutorial_pRT3\n",
      "drwxrwsr-x  5 tfessler ipaquanz   77 Oct  5 18:18 software\n",
      "drwxrwsr-x  3 tfessler ipaquanz 4096 Oct  7 09:49 try3\n",
      "/home/ipa/quanz/user_accounts/tfessler\n"
     ]
    }
   ],
   "execution_count": 16
  },
  {
   "metadata": {
    "ExecuteTime": {
     "end_time": "2025-10-08T19:01:04.333536Z",
     "start_time": "2025-10-08T19:01:04.279751Z"
    }
   },
   "cell_type": "code",
   "source": "c.run('ls -la')",
   "id": "5886445207c544dd",
   "outputs": [
    {
     "name": "stdout",
     "output_type": "stream",
     "text": [
      "total 40\n",
      "drwx------  6 tfessler tfessler  4096 Oct  7 17:10 .\n",
      "drwxr-xr-x 17 root     root         0 Oct  8 20:32 ..\n",
      "-rw-------  1 tfessler tfessler 11778 Oct  7 17:10 .bash_history\n",
      "-rw-rw-r--  1 tfessler tfessler   911 Oct  7 12:50 .bash_profile\n",
      "drwxrwxr-x  3 tfessler tfessler  4096 Sep 28 22:10 .local\n",
      "drwx------  3 tfessler tfessler  4096 Sep 30 13:02 .nv\n",
      "drwxrwxr-x  3 tfessler tfessler  4096 Oct  7 13:24 results\n",
      "drwx------  2 tfessler tfessler  4096 Oct  1 16:44 .ssh\n",
      "-rwxrw-r--  1 tfessler tfessler  1149 Oct  7 15:23 VH2O_create_spectrum.yaml\n"
     ]
    },
    {
     "data": {
      "text/plain": [
       "<Result cmd='ls -la' exited=0>"
      ]
     },
     "execution_count": 18,
     "metadata": {},
     "output_type": "execute_result"
    }
   ],
   "execution_count": 18
  },
  {
   "metadata": {
    "ExecuteTime": {
     "end_time": "2025-10-08T19:13:36.736975Z",
     "start_time": "2025-10-08T19:13:36.733456Z"
    }
   },
   "cell_type": "code",
   "source": [
    "import os\n",
    "print(\"Exists:\", os.path.exists(\"config_files\"))\n",
    "print(\"Is dir:\", os.path.isdir(\"config_files\"))\n",
    "print(\"Is file:\", os.path.isfile(\"config_files\"))"
   ],
   "id": "383a69d14368bfe9",
   "outputs": [
    {
     "name": "stdout",
     "output_type": "stream",
     "text": [
      "Exists: True\n",
      "Is dir: True\n",
      "Is file: False\n"
     ]
    }
   ],
   "execution_count": 21
  },
  {
   "metadata": {
    "ExecuteTime": {
     "end_time": "2025-10-08T19:13:59.293228Z",
     "start_time": "2025-10-08T19:13:59.290212Z"
    }
   },
   "cell_type": "code",
   "source": "open(\"config_files/test.txt\", \"w\").close()",
   "id": "94c4a905e1922250",
   "outputs": [],
   "execution_count": 22
  },
  {
   "metadata": {
    "ExecuteTime": {
     "end_time": "2025-10-08T19:39:50.512387Z",
     "start_time": "2025-10-08T19:39:49.518563Z"
    }
   },
   "cell_type": "code",
   "source": [
    "import os\n",
    "from fabric import Connection\n",
    "\n",
    "c = Connection('tfessler@rainbow', connect_kwargs={\"password\": \"Dl2oP1AjOjO6\"})\n",
    "\n",
    "local_dir = \"config_files\"\n",
    "remote_dir = \"/home/tfessler/config_files\"\n",
    "\n",
    "# Ensure remote directory exists\n",
    "c.run(f\"mkdir -p {remote_dir}\")\n",
    "\n",
    "# Upload each file\n",
    "for file in os.listdir(local_dir):\n",
    "    local_path = os.path.join(local_dir, file)\n",
    "    if os.path.isfile(local_path):\n",
    "        c.put(local_path, remote=f\"{remote_dir}/{file}\")\n",
    "        print(f\"Uploaded {file}\")"
   ],
   "id": "e9a1f969627c5765",
   "outputs": [
    {
     "name": "stdout",
     "output_type": "stream",
     "text": [
      "Uploaded spectrumVH2O_M=0.6.yaml\n",
      "Uploaded spectrumVH2O_M=0.8.yaml\n",
      "Uploaded spectrumVH2O_M=1.2.yaml\n",
      "Uploaded spectrumVH2O_M=1.4.yaml\n",
      "Uploaded spectrumVH2O_M=1.6.yaml\n",
      "Uploaded spectrumVH2O_M=1.8.yaml\n",
      "Uploaded spectrumVH2O_M=1.yaml\n",
      "Uploaded spectrumVH2O_M=2.yaml\n"
     ]
    }
   ],
   "execution_count": 27
  },
  {
   "metadata": {
    "ExecuteTime": {
     "end_time": "2025-10-08T19:47:36.642536Z",
     "start_time": "2025-10-08T19:47:36.623435Z"
    }
   },
   "cell_type": "code",
   "source": "os.makedirs(\"config_files_M\", exist_ok=True)",
   "id": "86c0edc0778c45ac",
   "outputs": [
    {
     "ename": "FileExistsError",
     "evalue": "[WinError 183] Eine Datei kann nicht erstellt werden, wenn sie bereits vorhanden ist: 'config_files_M'",
     "output_type": "error",
     "traceback": [
      "\u001B[31m---------------------------------------------------------------------------\u001B[39m",
      "\u001B[31mFileExistsError\u001B[39m                           Traceback (most recent call last)",
      "\u001B[36mCell\u001B[39m\u001B[36m \u001B[39m\u001B[32mIn[30]\u001B[39m\u001B[32m, line 1\u001B[39m\n\u001B[32m----> \u001B[39m\u001B[32m1\u001B[39m \u001B[43mos\u001B[49m\u001B[43m.\u001B[49m\u001B[43mmakedirs\u001B[49m\u001B[43m(\u001B[49m\u001B[33;43m\"\u001B[39;49m\u001B[33;43mconfig_files_M\u001B[39;49m\u001B[33;43m\"\u001B[39;49m\u001B[43m,\u001B[49m\u001B[43m \u001B[49m\u001B[43mexist_ok\u001B[49m\u001B[43m=\u001B[49m\u001B[38;5;28;43;01mFalse\u001B[39;49;00m\u001B[43m)\u001B[49m\n",
      "\u001B[36mFile \u001B[39m\u001B[32m<frozen os>:225\u001B[39m, in \u001B[36mmakedirs\u001B[39m\u001B[34m(name, mode, exist_ok)\u001B[39m\n",
      "\u001B[31mFileExistsError\u001B[39m: [WinError 183] Eine Datei kann nicht erstellt werden, wenn sie bereits vorhanden ist: 'config_files_M'"
     ]
    }
   ],
   "execution_count": 30
  },
  {
   "metadata": {},
   "cell_type": "code",
   "outputs": [],
   "execution_count": null,
   "source": "",
   "id": "447eed1f3eac78b2"
  }
 ],
 "metadata": {
  "kernelspec": {
   "display_name": "Python 3",
   "language": "python",
   "name": "python3"
  },
  "language_info": {
   "codemirror_mode": {
    "name": "ipython",
    "version": 2
   },
   "file_extension": ".py",
   "mimetype": "text/x-python",
   "name": "python",
   "nbconvert_exporter": "python",
   "pygments_lexer": "ipython2",
   "version": "2.7.6"
  }
 },
 "nbformat": 4,
 "nbformat_minor": 5
}
