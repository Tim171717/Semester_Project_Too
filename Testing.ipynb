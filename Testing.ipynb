{
 "cells": [
  {
   "cell_type": "code",
   "id": "initial_id",
   "metadata": {
    "collapsed": true,
    "ExecuteTime": {
     "end_time": "2025-10-08T18:58:14.378250Z",
     "start_time": "2025-10-08T18:58:13.979760Z"
    }
   },
   "source": [
    "from fabric import Connection\n",
    "\n",
    "c = Connection('tfessler@rainbow', connect_kwargs={\"password\": \"Dl2oP1AjOjO6\"})\n",
    "result = c.run('ls', hide=True)\n",
    "print(result.stdout)"
   ],
   "outputs": [
    {
     "name": "stdout",
     "output_type": "stream",
     "text": [
      "results\n",
      "VH2O_create_spectrum.yaml\n",
      "\n"
     ]
    }
   ],
   "execution_count": 14
  },
  {
   "metadata": {
    "ExecuteTime": {
     "end_time": "2025-10-08T18:59:07.403524Z",
     "start_time": "2025-10-08T18:59:06.882111Z"
    }
   },
   "cell_type": "code",
   "source": [
    "from fabric import Connection\n",
    "\n",
    "c = Connection(\"tfessler@rainbow\", connect_kwargs={\"password\": \"Dl2oP1AjOjO6\"})\n",
    "\n",
    "with c.cd(\"/home/ipa/quanz/user_accounts/tfessler\"):\n",
    "    c.run(\"ls -la\")\n",
    "    c.run(\"pwd\")"
   ],
   "id": "ae670663693e7d54",
   "outputs": [
    {
     "name": "stdout",
     "output_type": "stream",
     "text": [
      "total 24\n",
      "drwxrwsr-x 15 zaburr   ipaquanz 4096 Oct  5 19:05 .\n",
      "drwxrwsr-x 52 keuferpc ipaquanz 4096 Sep 25 16:03 ..\n",
      "drwxrwsr-x  3 tfessler ipaquanz   28 Oct  5 19:05 .astropy\n",
      "drwx--S---  4 tfessler ipaquanz   48 Oct  5 19:05 .config\n",
      "drwxrwxr-x  2 tfessler tfessler  138 Oct  7 15:23 config_files\n",
      "drwxrwsr-x  3 tfessler ipaquanz   27 Oct  2 16:16 .local\n",
      "drwxrwsr-x  7 tfessler ipaquanz  130 Oct  5 18:15 myenv\n",
      "drwx--S---  3 tfessler ipaquanz   34 Oct  5 19:05 .nv\n",
      "drwxrwsr-x  2 tfessler ipaquanz   51 Oct  5 18:53 .petitradtrans\n",
      "drwxrwsr-x 14 tfessler ipaquanz 4096 Oct  5 17:51 .pyenv\n",
      "drwxrwxr-x  3 tfessler tfessler 4096 Oct  7 10:10 results\n",
      "drwxrwsr-x  3 tfessler ipaquanz 4096 Oct  7 09:48 results_try2\n",
      "drwxr-sr-x  5 tfessler ipaquanz  180 Oct  7 13:16 Retrieval_Tutorial_pRT3\n",
      "drwxrwsr-x  5 tfessler ipaquanz   77 Oct  5 18:18 software\n",
      "drwxrwsr-x  3 tfessler ipaquanz 4096 Oct  7 09:49 try3\n",
      "/home/ipa/quanz/user_accounts/tfessler\n"
     ]
    }
   ],
   "execution_count": 16
  },
  {
   "metadata": {
    "ExecuteTime": {
     "end_time": "2025-10-08T19:01:04.333536Z",
     "start_time": "2025-10-08T19:01:04.279751Z"
    }
   },
   "cell_type": "code",
   "source": "c.run('ls -la')",
   "id": "5886445207c544dd",
   "outputs": [
    {
     "name": "stdout",
     "output_type": "stream",
     "text": [
      "total 40\n",
      "drwx------  6 tfessler tfessler  4096 Oct  7 17:10 .\n",
      "drwxr-xr-x 17 root     root         0 Oct  8 20:32 ..\n",
      "-rw-------  1 tfessler tfessler 11778 Oct  7 17:10 .bash_history\n",
      "-rw-rw-r--  1 tfessler tfessler   911 Oct  7 12:50 .bash_profile\n",
      "drwxrwxr-x  3 tfessler tfessler  4096 Sep 28 22:10 .local\n",
      "drwx------  3 tfessler tfessler  4096 Sep 30 13:02 .nv\n",
      "drwxrwxr-x  3 tfessler tfessler  4096 Oct  7 13:24 results\n",
      "drwx------  2 tfessler tfessler  4096 Oct  1 16:44 .ssh\n",
      "-rwxrw-r--  1 tfessler tfessler  1149 Oct  7 15:23 VH2O_create_spectrum.yaml\n"
     ]
    },
    {
     "data": {
      "text/plain": [
       "<Result cmd='ls -la' exited=0>"
      ]
     },
     "execution_count": 18,
     "metadata": {},
     "output_type": "execute_result"
    }
   ],
   "execution_count": 18
  },
  {
   "metadata": {},
   "cell_type": "code",
   "outputs": [],
   "execution_count": null,
   "source": "",
   "id": "383a69d14368bfe9"
  }
 ],
 "metadata": {
  "kernelspec": {
   "display_name": "Python 3",
   "language": "python",
   "name": "python3"
  },
  "language_info": {
   "codemirror_mode": {
    "name": "ipython",
    "version": 2
   },
   "file_extension": ".py",
   "mimetype": "text/x-python",
   "name": "python",
   "nbconvert_exporter": "python",
   "pygments_lexer": "ipython2",
   "version": "2.7.6"
  }
 },
 "nbformat": 4,
 "nbformat_minor": 5
}
