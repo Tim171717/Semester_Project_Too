{
 "cells": [
  {
   "metadata": {
    "ExecuteTime": {
     "end_time": "2025-10-09T18:38:57.860391Z",
     "start_time": "2025-10-09T18:38:57.856370Z"
    }
   },
   "cell_type": "code",
   "source": [
    "import os\n",
    "\n",
    "file_path = os.path.abspath('Testing.ipynb')\n",
    "file_dir = os.path.dirname(file_path)\n",
    "\n",
    "print(\"File path:\", file_path)\n",
    "print(\"Directory:\", file_dir)"
   ],
   "id": "ae670663693e7d54",
   "outputs": [
    {
     "name": "stdout",
     "output_type": "stream",
     "text": [
      "File path: C:\\Users\\timlf\\PycharmProjects\\Semester_Project_Too\\Testing.ipynb\n",
      "Directory: C:\\Users\\timlf\\PycharmProjects\\Semester_Project_Too\n"
     ]
    }
   ],
   "execution_count": 2
  },
  {
   "metadata": {
    "ExecuteTime": {
     "end_time": "2025-10-09T17:53:04.546440Z",
     "start_time": "2025-10-09T17:53:04.250007Z"
    }
   },
   "cell_type": "code",
   "source": [
    "import pyautogui\n",
    "pyautogui.click(2000, 600)\n",
    "pyautogui.write(f\"python /home/ipa/quanz/user_accounts/tfessler/software/pyRetLIFE/scripts/create_spectrum.py --config ~/config_files/VH2O_create_spectrum.yaml\")\n",
    "# pyautogui.press('enter')\n"
   ],
   "id": "5886445207c544dd",
   "outputs": [],
   "execution_count": 5
  },
  {
   "metadata": {
    "ExecuteTime": {
     "end_time": "2025-10-08T19:13:36.736975Z",
     "start_time": "2025-10-08T19:13:36.733456Z"
    }
   },
   "cell_type": "code",
   "source": [
    "import os\n",
    "print(\"Exists:\", os.path.exists(\"config_files\"))\n",
    "print(\"Is dir:\", os.path.isdir(\"config_files\"))\n",
    "print(\"Is file:\", os.path.isfile(\"config_files\"))"
   ],
   "id": "383a69d14368bfe9",
   "outputs": [
    {
     "name": "stdout",
     "output_type": "stream",
     "text": [
      "Exists: True\n",
      "Is dir: True\n",
      "Is file: False\n"
     ]
    }
   ],
   "execution_count": 21
  },
  {
   "metadata": {
    "ExecuteTime": {
     "end_time": "2025-10-08T19:13:59.293228Z",
     "start_time": "2025-10-08T19:13:59.290212Z"
    }
   },
   "cell_type": "code",
   "source": "open(\"config_files/test.txt\", \"w\").close()",
   "id": "94c4a905e1922250",
   "outputs": [],
   "execution_count": 22
  },
  {
   "metadata": {
    "ExecuteTime": {
     "end_time": "2025-10-08T19:39:50.512387Z",
     "start_time": "2025-10-08T19:39:49.518563Z"
    }
   },
   "cell_type": "code",
   "source": [
    "import os\n",
    "from fabric import Connection\n",
    "\n",
    "c = Connection('tfessler@rainbow', connect_kwargs={\"password\": \"Dl2oP1AjOjO6\"})\n",
    "\n",
    "local_dir = \"config_files\"\n",
    "remote_dir = \"/home/tfessler/config_files\"\n",
    "\n",
    "# Ensure remote directory exists\n",
    "c.run(f\"mkdir -p {remote_dir}\")\n",
    "\n",
    "# Upload each file\n",
    "for file in os.listdir(local_dir):\n",
    "    local_path = os.path.join(local_dir, file)\n",
    "    if os.path.isfile(local_path):\n",
    "        c.put(local_path, remote=f\"{remote_dir}/{file}\")\n",
    "        print(f\"Uploaded {file}\")"
   ],
   "id": "e9a1f969627c5765",
   "outputs": [
    {
     "name": "stdout",
     "output_type": "stream",
     "text": [
      "Uploaded spectrumVH2O_M=0.6.yaml\n",
      "Uploaded spectrumVH2O_M=0.8.yaml\n",
      "Uploaded spectrumVH2O_M=1.2.yaml\n",
      "Uploaded spectrumVH2O_M=1.4.yaml\n",
      "Uploaded spectrumVH2O_M=1.6.yaml\n",
      "Uploaded spectrumVH2O_M=1.8.yaml\n",
      "Uploaded spectrumVH2O_M=1.yaml\n",
      "Uploaded spectrumVH2O_M=2.yaml\n"
     ]
    }
   ],
   "execution_count": 27
  },
  {
   "metadata": {
    "ExecuteTime": {
     "end_time": "2025-10-08T19:47:36.642536Z",
     "start_time": "2025-10-08T19:47:36.623435Z"
    }
   },
   "cell_type": "code",
   "source": "os.makedirs(\"config_files_M\", exist_ok=True)",
   "id": "86c0edc0778c45ac",
   "outputs": [
    {
     "ename": "FileExistsError",
     "evalue": "[WinError 183] Eine Datei kann nicht erstellt werden, wenn sie bereits vorhanden ist: 'config_files_M'",
     "output_type": "error",
     "traceback": [
      "\u001B[31m---------------------------------------------------------------------------\u001B[39m",
      "\u001B[31mFileExistsError\u001B[39m                           Traceback (most recent call last)",
      "\u001B[36mCell\u001B[39m\u001B[36m \u001B[39m\u001B[32mIn[30]\u001B[39m\u001B[32m, line 1\u001B[39m\n\u001B[32m----> \u001B[39m\u001B[32m1\u001B[39m \u001B[43mos\u001B[49m\u001B[43m.\u001B[49m\u001B[43mmakedirs\u001B[49m\u001B[43m(\u001B[49m\u001B[33;43m\"\u001B[39;49m\u001B[33;43mconfig_files_M\u001B[39;49m\u001B[33;43m\"\u001B[39;49m\u001B[43m,\u001B[49m\u001B[43m \u001B[49m\u001B[43mexist_ok\u001B[49m\u001B[43m=\u001B[49m\u001B[38;5;28;43;01mFalse\u001B[39;49;00m\u001B[43m)\u001B[49m\n",
      "\u001B[36mFile \u001B[39m\u001B[32m<frozen os>:225\u001B[39m, in \u001B[36mmakedirs\u001B[39m\u001B[34m(name, mode, exist_ok)\u001B[39m\n",
      "\u001B[31mFileExistsError\u001B[39m: [WinError 183] Eine Datei kann nicht erstellt werden, wenn sie bereits vorhanden ist: 'config_files_M'"
     ]
    }
   ],
   "execution_count": 30
  },
  {
   "metadata": {},
   "cell_type": "code",
   "outputs": [],
   "execution_count": null,
   "source": "",
   "id": "447eed1f3eac78b2"
  }
 ],
 "metadata": {
  "kernelspec": {
   "display_name": "Python 3",
   "language": "python",
   "name": "python3"
  },
  "language_info": {
   "codemirror_mode": {
    "name": "ipython",
    "version": 2
   },
   "file_extension": ".py",
   "mimetype": "text/x-python",
   "name": "python",
   "nbconvert_exporter": "python",
   "pygments_lexer": "ipython2",
   "version": "2.7.6"
  }
 },
 "nbformat": 4,
 "nbformat_minor": 5
}
