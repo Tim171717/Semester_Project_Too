{
 "cells": [
  {
   "metadata": {
    "ExecuteTime": {
     "end_time": "2025-10-22T20:20:34.251435Z",
     "start_time": "2025-10-22T20:20:34.139341Z"
    }
   },
   "cell_type": "code",
   "source": [
    "from pyretlife.retrieval_plotting.run_plotting import retrieval_plotting_object\n",
    "from\n"
   ],
   "id": "8d63acbc0cd42438",
   "outputs": [
    {
     "ename": "ModuleNotFoundError",
     "evalue": "No module named 'pyretlife'",
     "output_type": "error",
     "traceback": [
      "\u001B[31m---------------------------------------------------------------------------\u001B[39m",
      "\u001B[31mModuleNotFoundError\u001B[39m                       Traceback (most recent call last)",
      "\u001B[36mCell\u001B[39m\u001B[36m \u001B[39m\u001B[32mIn[3]\u001B[39m\u001B[32m, line 1\u001B[39m\n\u001B[32m----> \u001B[39m\u001B[32m1\u001B[39m \u001B[38;5;28;01mfrom\u001B[39;00m\u001B[38;5;250m \u001B[39m\u001B[34;01mpyretlife\u001B[39;00m\u001B[34;01m.\u001B[39;00m\u001B[34;01mretrieval_plotting\u001B[39;00m\u001B[34;01m.\u001B[39;00m\u001B[34;01mrun_plotting\u001B[39;00m\u001B[38;5;250m \u001B[39m\u001B[38;5;28;01mimport\u001B[39;00m retrieval_plotting_object\n",
      "\u001B[31mModuleNotFoundError\u001B[39m: No module named 'pyretlife'"
     ]
    }
   ],
   "execution_count": 3
  },
  {
   "metadata": {},
   "cell_type": "code",
   "outputs": [],
   "execution_count": null,
   "source": "",
   "id": "4434cd5293bf8a53"
  }
 ],
 "metadata": {
  "kernelspec": {
   "display_name": "Python 3",
   "language": "python",
   "name": "python3"
  },
  "language_info": {
   "codemirror_mode": {
    "name": "ipython",
    "version": 2
   },
   "file_extension": ".py",
   "mimetype": "text/x-python",
   "name": "python",
   "nbconvert_exporter": "python",
   "pygments_lexer": "ipython2",
   "version": "2.7.6"
  }
 },
 "nbformat": 4,
 "nbformat_minor": 5
}
