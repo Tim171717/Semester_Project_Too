{
 "cells": [
  {
   "metadata": {
    "ExecuteTime": {
     "end_time": "2025-10-23T19:41:32.270831Z",
     "start_time": "2025-10-23T19:41:31.586708Z"
    }
   },
   "cell_type": "code",
   "source": [
    "import sys\n",
    "sys.path.append(\"C:/Users/timlf/PycharmProjects/Semester_Project_Too/LIFE-Retrieval-Framework/pyretlife/retrieval_plotting/\")\n",
    "\n",
    "from run_plotting import retrieval_plotting_object\n",
    "\n"
   ],
   "id": "8d63acbc0cd42438",
   "outputs": [
    {
     "name": "stdout",
     "output_type": "stream",
     "text": [
      "problem: Could not find module 'libmultinest.dll' (or one of its dependencies). Try using the full path with constructor syntax.\n"
     ]
    },
    {
     "ename": "SystemExit",
     "evalue": "1",
     "output_type": "error",
     "traceback": [
      "An exception has occurred, use %tb to see the full traceback.\n",
      "\u001B[31mSystemExit\u001B[39m\u001B[31m:\u001B[39m 1\n"
     ]
    },
    {
     "name": "stderr",
     "output_type": "stream",
     "text": [
      "C:\\Users\\timlf\\AppData\\Local\\Programs\\Python\\Python311\\Lib\\site-packages\\IPython\\core\\interactiveshell.py:3707: UserWarning: To exit: use 'exit', 'quit', or Ctrl-D.\n",
      "  warn(\"To exit: use 'exit', 'quit', or Ctrl-D.\", stacklevel=1)\n"
     ]
    }
   ],
   "execution_count": 1
  },
  {
   "metadata": {
    "ExecuteTime": {
     "end_time": "2025-10-23T19:44:35.212877Z",
     "start_time": "2025-10-23T19:44:35.208857Z"
    }
   },
   "cell_type": "code",
   "source": [
    "import os\n",
    "print(os.environ.get(\"PATH\"))"
   ],
   "id": "4434cd5293bf8a53",
   "outputs": [
    {
     "name": "stdout",
     "output_type": "stream",
     "text": [
      "C:\\Users\\timlf\\PycharmProjects\\Semester_Project_Too\\.venv\\Scripts;C:\\WINDOWS\\system32;C:\\WINDOWS;C:\\WINDOWS\\System32\\Wbem;C:\\WINDOWS\\System32\\WindowsPowerShell\\v1.0\\;C:\\WINDOWS\\System32\\OpenSSH\\;C:\\Program Files\\ffmpeg-7.1-essentials_build\\bin;C:\\TDM-GCC-64\\bin;C:\\Program Files\\Git\\cmd;C:\\Users\\timlf\\AppData\\Local\\Programs\\Python\\Launcher\\;C:\\Users\\timlf\\AppData\\Local\\Microsoft\\WindowsApps;C:\\Users\\timlf\\AppData\\Roaming\\Programs\\Zero Install;C:\\Users\\timlf\\AppData\\Local\\GitHubDesktop\\bin;C:\\msys64\\mingw64\\bin;\n"
     ]
    }
   ],
   "execution_count": 1
  },
  {
   "metadata": {},
   "cell_type": "code",
   "outputs": [],
   "execution_count": null,
   "source": "",
   "id": "cb926bdeb733a8e9"
  }
 ],
 "metadata": {
  "kernelspec": {
   "display_name": "Python 3",
   "language": "python",
   "name": "python3"
  },
  "language_info": {
   "codemirror_mode": {
    "name": "ipython",
    "version": 2
   },
   "file_extension": ".py",
   "mimetype": "text/x-python",
   "name": "python",
   "nbconvert_exporter": "python",
   "pygments_lexer": "ipython2",
   "version": "2.7.6"
  }
 },
 "nbformat": 4,
 "nbformat_minor": 5
}
